{
 "cells": [
  {
   "cell_type": "markdown",
   "id": "9143b35a",
   "metadata": {},
   "source": [
    "## File Handling"
   ]
  },
  {
   "cell_type": "code",
   "execution_count": null,
   "id": "06c18b39",
   "metadata": {},
   "outputs": [],
   "source": [
    "import numpy as np"
   ]
  },
  {
   "cell_type": "markdown",
   "id": "b9b11593",
   "metadata": {},
   "source": [
    "1) F Strings "
   ]
  },
  {
   "cell_type": "code",
   "execution_count": 1,
   "id": "2d8dbed2",
   "metadata": {},
   "outputs": [
    {
     "name": "stdout",
     "output_type": "stream",
     "text": [
      "The age is 18\n"
     ]
    }
   ],
   "source": [
    "age=18\n",
    "print(f\"The age is {age}\")"
   ]
  },
  {
   "cell_type": "markdown",
   "id": "a0b91e81",
   "metadata": {},
   "source": [
    "### Minimum Widths, Alignment and Padding\n",
    "You can pass arguments inside a nested set of curly braces to set a minimum width for the field, the alignment and even padding characters."
   ]
  },
  {
   "cell_type": "markdown",
   "id": "d5c61588",
   "metadata": {},
   "source": [
    "Here the first three lines align, except `Pages` follows a default left-alignment while numbers are right-aligned.\n",
    "To set the alignment, use the character `<` for left-align,  `^` for center, `>` for right.<br>\n",
    "To set padding, precede the alignment character with the padding character (`-` and `.` are common choices).\n"
   ]
  },
  {
   "cell_type": "code",
   "execution_count": 13,
   "id": "c5e10225",
   "metadata": {},
   "outputs": [
    {
     "name": "stdout",
     "output_type": "stream",
     "text": [
      "Author     Topic                               Pages\n",
      "Mr.1       t1                                    129\n",
      "Mr.2       t2                                    119\n",
      "Mr.3       t3                                    130\n"
     ]
    }
   ],
   "source": [
    "list=[('Author','Topic','Pages'),('Mr.1','t1',129),('Mr.2','t2',119),('Mr.3','t3',130)]\n",
    "for i,j,k in list:\n",
    "    print(f\"{i:{10}} {j:{20}} {k:>{20}}\")"
   ]
  },
  {
   "cell_type": "markdown",
   "id": "f0287b49",
   "metadata": {},
   "source": [
    "### File Handling"
   ]
  },
  {
   "cell_type": "markdown",
   "id": "66e490b1",
   "metadata": {},
   "source": [
    "# Files\n",
    "\n",
    "Python uses file objects to interact with external files on your computer. These file objects can be any sort of file you have on your computer, whether it be an audio file, a text file, emails, Excel documents, etc. \n",
    "\n",
    "Python has a built-in open function that allows us to open and play with basic file types. First we will need a file.\n",
    "\n",
    "## Creating a File with IPython\n",
    "#### This function is specific to jupyter notebooks."
   ]
  },
  {
   "cell_type": "code",
   "execution_count": 3,
   "id": "c2c1e0a4",
   "metadata": {},
   "outputs": [
    {
     "name": "stdout",
     "output_type": "stream",
     "text": [
      "Overwriting file1.txt\n"
     ]
    }
   ],
   "source": [
    "%%writefile file1.txt\n",
    "This is line 1.\n",
    "This is line 2"
   ]
  },
  {
   "cell_type": "code",
   "execution_count": 4,
   "id": "22af6cf3",
   "metadata": {},
   "outputs": [],
   "source": [
    "file_object=open('file1.txt')"
   ]
  },
  {
   "cell_type": "markdown",
   "id": "09d7988a",
   "metadata": {},
   "source": [
    "**Alternatively, to grab files from any location on your computer, simply pass in the entire file path. **\n",
    "\n",
    "For Windows you need to use double \\ so python doesn't treat the second \\ as an escape character, a file path is in the form:\n",
    "\n",
    "    myfile = open(\"C:\\\\Users\\\\YourUserName\\\\Home\\\\Folder\\\\file1.txt\")\n",
    "\n",
    "For MacOS and Linux you use slashes in the opposite direction:\n",
    "\n",
    "    myfile = open(\"/Users/YourUserName/Folder/file1.txt\")"
   ]
  },
  {
   "cell_type": "code",
   "execution_count": 5,
   "id": "0b9a2347",
   "metadata": {
    "scrolled": true
   },
   "outputs": [
    {
     "data": {
      "text/plain": [
       "'C:\\\\Users\\\\Aryan Maurya\\\\Desktop\\\\ChatBotWithRNN\\\\Session 1'"
      ]
     },
     "execution_count": 5,
     "metadata": {},
     "output_type": "execute_result"
    }
   ],
   "source": [
    "pwd"
   ]
  },
  {
   "cell_type": "code",
   "execution_count": 19,
   "id": "334d806e",
   "metadata": {},
   "outputs": [
    {
     "data": {
      "text/plain": [
       "<_io.TextIOWrapper name='file1.txt' mode='r' encoding='cp1252'>"
      ]
     },
     "execution_count": 19,
     "metadata": {},
     "output_type": "execute_result"
    }
   ],
   "source": [
    "file_object"
   ]
  },
  {
   "cell_type": "code",
   "execution_count": 20,
   "id": "7cd1fba0",
   "metadata": {},
   "outputs": [
    {
     "data": {
      "text/plain": [
       "'This is line 1.\\nThis is line 2\\n'"
      ]
     },
     "execution_count": 20,
     "metadata": {},
     "output_type": "execute_result"
    }
   ],
   "source": [
    "file_object.read()"
   ]
  },
  {
   "cell_type": "code",
   "execution_count": 23,
   "id": "250dd70d",
   "metadata": {},
   "outputs": [
    {
     "name": "stdout",
     "output_type": "stream",
     "text": [
      "This is line 1.\n",
      "This is line 2\n",
      "\n"
     ]
    }
   ],
   "source": [
    "file_object.seek(0)\n",
    "print(file_object.read())"
   ]
  },
  {
   "cell_type": "code",
   "execution_count": 24,
   "id": "c3a5815b",
   "metadata": {},
   "outputs": [],
   "source": [
    "file_object.close()"
   ]
  },
  {
   "cell_type": "code",
   "execution_count": 25,
   "id": "dfad4dc4",
   "metadata": {},
   "outputs": [],
   "source": [
    "file_object=open('file1.txt')"
   ]
  },
  {
   "cell_type": "markdown",
   "id": "277f47a5",
   "metadata": {},
   "source": [
    "### .readlines()\n",
    "You can read a file line by line using the readlines method. Use caution with large files, since everything will be held in memory. "
   ]
  },
  {
   "cell_type": "code",
   "execution_count": 6,
   "id": "73ddac4f",
   "metadata": {},
   "outputs": [
    {
     "name": "stdout",
     "output_type": "stream",
     "text": [
      "T\n",
      "T\n"
     ]
    }
   ],
   "source": [
    "file_object.seek(0)\n",
    "lines=file_object.readlines()\n",
    "for i in lines:\n",
    "    print(i[0])"
   ]
  },
  {
   "cell_type": "code",
   "execution_count": 31,
   "id": "76de4fd9",
   "metadata": {},
   "outputs": [],
   "source": [
    "file_object.close()"
   ]
  },
  {
   "cell_type": "markdown",
   "id": "fbc92829",
   "metadata": {},
   "source": [
    "## Writing to a File\n",
    "\n",
    "By default, the `open()` function will only allow us to read the file. We need to pass the argument `'w'` to write over the file. For example:"
   ]
  },
  {
   "cell_type": "markdown",
   "id": "ebf66dc6",
   "metadata": {},
   "source": [
    "<div class=\"alert alert-danger\" style=\"margin: 20px\">**Use caution!**<br>\n",
    "Opening a file with 'w' or 'w+' *truncates the original*, meaning that anything that was in the original file **is deleted**!</div>"
   ]
  },
  {
   "cell_type": "code",
   "execution_count": 32,
   "id": "2406977a",
   "metadata": {},
   "outputs": [
    {
     "data": {
      "text/plain": [
       "''"
      ]
     },
     "execution_count": 32,
     "metadata": {},
     "output_type": "execute_result"
    }
   ],
   "source": [
    "file_object=open('file1.txt','w+') # Deletes all existing content\n",
    "file_object.read()"
   ]
  },
  {
   "cell_type": "code",
   "execution_count": 33,
   "id": "28c1cd51",
   "metadata": {},
   "outputs": [
    {
     "data": {
      "text/plain": [
       "'This is the first line'"
      ]
     },
     "execution_count": 33,
     "metadata": {},
     "output_type": "execute_result"
    }
   ],
   "source": [
    "file_object.write('This is the first line')\n",
    "file_object.seek(0)\n",
    "file_object.read()"
   ]
  },
  {
   "cell_type": "code",
   "execution_count": 34,
   "id": "a129dd2e",
   "metadata": {},
   "outputs": [],
   "source": [
    "file_object.seek(0)\n",
    "file_object.write('This is the second line')\n",
    "file_object.read()\n",
    "file_object.close()"
   ]
  },
  {
   "cell_type": "markdown",
   "id": "36acf99b",
   "metadata": {},
   "source": [
    "## Appending to a File\n",
    "Passing the argument `'a'` opens the file and puts the pointer at the end, so anything written is appended. Like `'w+'`, `'a+'` lets us read and write to a file. If the file does not exist, one will be created."
   ]
  },
  {
   "cell_type": "code",
   "execution_count": 35,
   "id": "4b3ffc47",
   "metadata": {},
   "outputs": [],
   "source": [
    "file_object=open('file1.txt','a+')"
   ]
  },
  {
   "cell_type": "code",
   "execution_count": 37,
   "id": "699da2ee",
   "metadata": {},
   "outputs": [
    {
     "data": {
      "text/plain": [
       "0"
      ]
     },
     "execution_count": 37,
     "metadata": {},
     "output_type": "execute_result"
    }
   ],
   "source": [
    "file_object.seek(0)"
   ]
  },
  {
   "cell_type": "code",
   "execution_count": 38,
   "id": "3b363e81",
   "metadata": {},
   "outputs": [
    {
     "data": {
      "text/plain": [
       "'This is the second line'"
      ]
     },
     "execution_count": 38,
     "metadata": {},
     "output_type": "execute_result"
    }
   ],
   "source": [
    "file_object.read()"
   ]
  },
  {
   "cell_type": "code",
   "execution_count": 39,
   "id": "9a7ee9c8",
   "metadata": {},
   "outputs": [
    {
     "data": {
      "text/plain": [
       "3"
      ]
     },
     "execution_count": 39,
     "metadata": {},
     "output_type": "execute_result"
    }
   ],
   "source": [
    "file_object.write('xyz')"
   ]
  },
  {
   "cell_type": "code",
   "execution_count": 40,
   "id": "a7b8247f",
   "metadata": {},
   "outputs": [
    {
     "data": {
      "text/plain": [
       "'This is the second linexyz'"
      ]
     },
     "execution_count": 40,
     "metadata": {},
     "output_type": "execute_result"
    }
   ],
   "source": [
    "file_object.seek(0)\n",
    "file_object.read()"
   ]
  },
  {
   "cell_type": "code",
   "execution_count": 41,
   "id": "0535dc2a",
   "metadata": {},
   "outputs": [],
   "source": [
    "file_object.close()\n"
   ]
  },
  {
   "cell_type": "code",
   "execution_count": 42,
   "id": "10091fe8",
   "metadata": {},
   "outputs": [],
   "source": [
    "file_object=open('file2.txt','a+')"
   ]
  }
 ],
 "metadata": {
  "kernelspec": {
   "display_name": "Python 3 (ipykernel)",
   "language": "python",
   "name": "python3"
  },
  "language_info": {
   "codemirror_mode": {
    "name": "ipython",
    "version": 3
   },
   "file_extension": ".py",
   "mimetype": "text/x-python",
   "name": "python",
   "nbconvert_exporter": "python",
   "pygments_lexer": "ipython3",
   "version": "3.7.16"
  }
 },
 "nbformat": 4,
 "nbformat_minor": 5
}
