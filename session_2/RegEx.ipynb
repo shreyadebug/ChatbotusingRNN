{
  "cells": [
    {
      "cell_type": "markdown",
      "metadata": {
        "id": "et-ZdU2z7O27"
      },
      "source": [
        "# Regular Expressions\n",
        "\n",
        "Regular Expressions (sometimes called regex for short) allow a user to search for strings using almost any sort of rule they can come up with. For example, finding all capital letters in a string, or finding a phone number in a document.\n",
        "\n",
        "\n",
        "Regular expressions are handled using Python's built-in **re** library. See [the docs](https://docs.python.org/3/library/re.html) for more information."
      ]
    },
    {
      "cell_type": "markdown",
      "metadata": {
        "id": "dl6T2KsH7O28"
      },
      "source": [
        "Let's begin by explaining how to search for basic patterns in a string!"
      ]
    },
    {
      "cell_type": "markdown",
      "metadata": {
        "id": "Dr8V7tlP7O28"
      },
      "source": [
        "## Searching for Basic Patterns\n",
        "\n",
        "Let's imagine that we have the following string:"
      ]
    },
    {
      "cell_type": "code",
      "execution_count": 1,
      "metadata": {
        "id": "wpnFWZva7O29"
      },
      "outputs": [],
      "source": [
        "text = \"The  phone number is 408-555-1234\""
      ]
    },
    {
      "cell_type": "markdown",
      "metadata": {
        "id": "BQ7Lfy7j7O2_"
      },
      "source": [
        "We'll start off by trying to find out if the string \"phone\" is inside the text string."
      ]
    },
    {
      "cell_type": "code",
      "execution_count": 2,
      "metadata": {
        "colab": {
          "base_uri": "https://localhost:8080/"
        },
        "id": "h_0jdu6-7O2_",
        "outputId": "2867d6a9-e5dc-46f3-8b98-467abb54d8f5"
      },
      "outputs": [
        {
          "data": {
            "text/plain": [
              "True"
            ]
          },
          "execution_count": 2,
          "metadata": {},
          "output_type": "execute_result"
        }
      ],
      "source": [
        "'phone' in text"
      ]
    },
    {
      "cell_type": "markdown",
      "metadata": {
        "id": "D7p7Nl597O3A"
      },
      "source": [
        "But let's show the format for regular expressions, because later on we will be searching for patterns that won't have such a simple solution."
      ]
    },
    {
      "cell_type": "code",
      "execution_count": 3,
      "metadata": {
        "id": "KZaAg8UU7O3B"
      },
      "outputs": [],
      "source": [
        "import re"
      ]
    },
    {
      "cell_type": "code",
      "execution_count": 4,
      "metadata": {
        "id": "RVIeNfy27O3B"
      },
      "outputs": [],
      "source": [
        "pattern = 'phone'"
      ]
    },
    {
      "cell_type": "code",
      "execution_count": 5,
      "metadata": {
        "colab": {
          "base_uri": "https://localhost:8080/"
        },
        "id": "O4BkrnCR7O3B",
        "outputId": "11335699-8ab5-4055-c01d-2ccbbea2523b"
      },
      "outputs": [
        {
          "data": {
            "text/plain": [
              "<re.Match object; span=(5, 10), match='phone'>"
            ]
          },
          "execution_count": 5,
          "metadata": {},
          "output_type": "execute_result"
        }
      ],
      "source": [
        "re.search(pattern,text)"
      ]
    },
    {
      "cell_type": "code",
      "execution_count": 6,
      "metadata": {
        "id": "RaT-4SoG7O3B"
      },
      "outputs": [],
      "source": [
        "pattern = \"NOT IN TEXT\""
      ]
    },
    {
      "cell_type": "code",
      "execution_count": 7,
      "metadata": {
        "id": "rBDHqAC77O3C"
      },
      "outputs": [],
      "source": [
        "re.search(pattern,text)"
      ]
    },
    {
      "cell_type": "markdown",
      "metadata": {
        "id": "1jmas-ls7O3C"
      },
      "source": [
        "\n",
        "`re.search()` will take the pattern, scan the text, and then returns a Match object. If no pattern is found, a None is returned (in Jupyter Notebook this just means that nothing is output below the cell).\n",
        "\n",
        "Let's take a closer look at this Match object."
      ]
    },
    {
      "cell_type": "code",
      "execution_count": 8,
      "metadata": {
        "id": "t3PjwPJ_7O3C"
      },
      "outputs": [],
      "source": [
        "pattern = 'phone'"
      ]
    },
    {
      "cell_type": "code",
      "execution_count": 9,
      "metadata": {
        "id": "9t6N3eIi7O3C"
      },
      "outputs": [],
      "source": [
        "match = re.search(pattern,text)"
      ]
    },
    {
      "cell_type": "code",
      "execution_count": 10,
      "metadata": {
        "colab": {
          "base_uri": "https://localhost:8080/"
        },
        "id": "DNwFGkhg7O3C",
        "outputId": "6f6ce3c9-2922-4b0f-ea84-74500ba62520"
      },
      "outputs": [
        {
          "data": {
            "text/plain": [
              "<re.Match object; span=(5, 10), match='phone'>"
            ]
          },
          "execution_count": 10,
          "metadata": {},
          "output_type": "execute_result"
        }
      ],
      "source": [
        "match"
      ]
    },
    {
      "cell_type": "markdown",
      "metadata": {
        "id": "UVdt0_D37O3D"
      },
      "source": [
        "Notice the span, there is also a start and end index information."
      ]
    },
    {
      "cell_type": "code",
      "execution_count": 11,
      "metadata": {
        "colab": {
          "base_uri": "https://localhost:8080/"
        },
        "id": "2zCuhoHu7O3D",
        "outputId": "27b0558f-01e1-42ce-e474-372002da0e10"
      },
      "outputs": [
        {
          "data": {
            "text/plain": [
              "(5, 10)"
            ]
          },
          "execution_count": 11,
          "metadata": {},
          "output_type": "execute_result"
        }
      ],
      "source": [
        "match.span()"
      ]
    },
    {
      "cell_type": "code",
      "execution_count": 12,
      "metadata": {
        "colab": {
          "base_uri": "https://localhost:8080/"
        },
        "id": "aTAlnWX87O3D",
        "outputId": "363494b7-c657-47bc-8e09-08c50c3d8ae7"
      },
      "outputs": [
        {
          "data": {
            "text/plain": [
              "5"
            ]
          },
          "execution_count": 12,
          "metadata": {},
          "output_type": "execute_result"
        }
      ],
      "source": [
        "match.start()"
      ]
    },
    {
      "cell_type": "code",
      "execution_count": 13,
      "metadata": {
        "colab": {
          "base_uri": "https://localhost:8080/"
        },
        "id": "dSZnf4f-7O3D",
        "outputId": "ae4ce64d-b7f0-4022-9772-c1e0ab417436"
      },
      "outputs": [
        {
          "data": {
            "text/plain": [
              "10"
            ]
          },
          "execution_count": 13,
          "metadata": {},
          "output_type": "execute_result"
        }
      ],
      "source": [
        "match.end()"
      ]
    },
    {
      "cell_type": "markdown",
      "metadata": {
        "id": "lDVDuQkK7O3D"
      },
      "source": [
        "But what if the pattern occurs more than once?"
      ]
    },
    {
      "cell_type": "code",
      "execution_count": 14,
      "metadata": {
        "id": "7q3dNDj87O3D"
      },
      "outputs": [],
      "source": [
        "text = \"my phone is a new phone\""
      ]
    },
    {
      "cell_type": "code",
      "execution_count": 15,
      "metadata": {
        "id": "_ifJY1K97O3E"
      },
      "outputs": [],
      "source": [
        "match = re.search(\"phone\",text)"
      ]
    },
    {
      "cell_type": "code",
      "execution_count": 16,
      "metadata": {
        "colab": {
          "base_uri": "https://localhost:8080/"
        },
        "id": "uyU_ObLW7O3E",
        "outputId": "be9d5a3a-722a-490b-aafd-fed91f6e2d84"
      },
      "outputs": [
        {
          "data": {
            "text/plain": [
              "(3, 8)"
            ]
          },
          "execution_count": 16,
          "metadata": {},
          "output_type": "execute_result"
        }
      ],
      "source": [
        "match.span()"
      ]
    },
    {
      "cell_type": "markdown",
      "metadata": {
        "id": "8IKh4HqV7O3E"
      },
      "source": [
        "Notice it only matches the first instance. If we wanted a list of all matches, we can use .findall() method:"
      ]
    },
    {
      "cell_type": "code",
      "execution_count": 17,
      "metadata": {
        "id": "3A75tSRi7O3E"
      },
      "outputs": [],
      "source": [
        "matches = re.findall(\"phone\",text)"
      ]
    },
    {
      "cell_type": "code",
      "execution_count": 18,
      "metadata": {
        "colab": {
          "base_uri": "https://localhost:8080/"
        },
        "id": "2kQU3lYz7O3E",
        "outputId": "f30677dd-3c3d-454c-a48e-7aaaf2bf1123"
      },
      "outputs": [
        {
          "data": {
            "text/plain": [
              "['phone', 'phone']"
            ]
          },
          "execution_count": 18,
          "metadata": {},
          "output_type": "execute_result"
        }
      ],
      "source": [
        "matches"
      ]
    },
    {
      "cell_type": "code",
      "execution_count": 19,
      "metadata": {
        "colab": {
          "base_uri": "https://localhost:8080/"
        },
        "id": "Surq2I6J7O3F",
        "outputId": "c1a8b57e-209f-456e-86ad-690947a08a47"
      },
      "outputs": [
        {
          "data": {
            "text/plain": [
              "2"
            ]
          },
          "execution_count": 19,
          "metadata": {},
          "output_type": "execute_result"
        }
      ],
      "source": [
        "len(matches)"
      ]
    },
    {
      "cell_type": "markdown",
      "metadata": {
        "id": "OLMAaBD67O3F"
      },
      "source": [
        "To get actual match objects, use the iterator:"
      ]
    },
    {
      "cell_type": "code",
      "execution_count": 20,
      "metadata": {
        "colab": {
          "base_uri": "https://localhost:8080/"
        },
        "id": "Px3p4Krt7O3F",
        "outputId": "3b3dd6e8-787e-4150-aa73-d0850ae3720c"
      },
      "outputs": [
        {
          "name": "stdout",
          "output_type": "stream",
          "text": [
            "(3, 8)\n",
            "(18, 23)\n"
          ]
        }
      ],
      "source": [
        "for match in re.finditer(\"phone\",text):\n",
        "    print(match.span())"
      ]
    },
    {
      "cell_type": "markdown",
      "metadata": {
        "id": "xldP53Ft7O3F"
      },
      "source": [
        "If you wanted the actual text that matched, you can use the .group() method."
      ]
    },
    {
      "cell_type": "code",
      "execution_count": 21,
      "metadata": {
        "colab": {
          "base_uri": "https://localhost:8080/",
          "height": 36
        },
        "id": "kbF5RLfr7O3G",
        "outputId": "dfc9b77f-ff78-45ad-dd4e-41337b4ead0e"
      },
      "outputs": [
        {
          "data": {
            "application/vnd.google.colaboratory.intrinsic+json": {
              "type": "string"
            },
            "text/plain": [
              "'phone'"
            ]
          },
          "execution_count": 21,
          "metadata": {},
          "output_type": "execute_result"
        }
      ],
      "source": [
        "match.group()"
      ]
    },
    {
      "cell_type": "markdown",
      "metadata": {
        "id": "MsFHrceJ7O3G"
      },
      "source": [
        "# Patterns\n",
        "\n",
        "So far we've learned how to search for a basic string.About more complex examples such as trying to find a telephone number in a large string of text Or an email address we could just use search method if we know the exact phone or email, but what if we don't know it? We may know the general format, and we can use that along with regular expressions to search the document for strings that match a particular pattern.\n"
      ]
    },
    {
      "cell_type": "markdown",
      "metadata": {
        "id": "Set-j7kK7O3G"
      },
      "source": [
        "## Identifiers for Characters in Patterns\n",
        "\n",
        "Characters such as a digit or a single string have different codes that represent them. You can use these to build up a pattern string. Notice how these make heavy use of the backwards slash \\ . Because of this when defining a pattern string for regular expression we use the format:\n",
        "\n",
        "    r'mypattern'\n",
        "    \n",
        "placing the r in front of the string allows python to understand that the \\ in the pattern string are not meant to be escape slashes.\n",
        "\n",
        "Below you can find a table of all the possible identifiers:"
      ]
    },
    {
      "cell_type": "markdown",
      "metadata": {
        "id": "78kInrrv7O3G"
      },
      "source": [
        "<table ><tr><th>Character</th><th>Description</th><th>Example Pattern Code</th><th >Exammple Match</th></tr>\n",
        "\n",
        "<tr ><td><span >\\d</span></td><td>A digit</td><td>file_\\d\\d</td><td>file_25</td></tr>\n",
        "\n",
        "<tr ><td><span >\\w</span></td><td>Alphanumeric</td><td>\\w-\\w\\w\\w</td><td>A-b_1</td></tr>\n",
        "\n",
        "\n",
        "\n",
        "<tr ><td><span >\\s</span></td><td>White space</td><td>a\\sb\\sc</td><td>a b c</td></tr>\n",
        "\n",
        "\n",
        "\n",
        "<tr ><td><span >\\D</span></td><td>A non digit</td><td>\\D\\D\\D</td><td>ABC</td></tr>\n",
        "\n",
        "<tr ><td><span >\\W</span></td><td>Non-alphanumeric</td><td>\\W\\W\\W\\W\\W</td><td>*-+=)</td></tr>\n",
        "\n",
        "<tr ><td><span >\\S</span></td><td>Non-whitespace</td><td>\\S\\S\\S\\S</td><td>Yoyo</td></tr></table>"
      ]
    },
    {
      "cell_type": "markdown",
      "metadata": {
        "id": "f5ZP0emc7O3H"
      },
      "source": [
        "For example:"
      ]
    },
    {
      "cell_type": "code",
      "execution_count": 22,
      "metadata": {
        "id": "5Kdkp2U57O3H"
      },
      "outputs": [],
      "source": [
        "text = \"My telephone number is 408-555-1234\""
      ]
    },
    {
      "cell_type": "code",
      "execution_count": 23,
      "metadata": {
        "id": "7WwwAqSI7O3H"
      },
      "outputs": [],
      "source": [
        "phone = re.search(r'\\d\\d\\d-\\d\\d\\d-\\d\\d\\d\\d',text)"
      ]
    },
    {
      "cell_type": "code",
      "execution_count": 24,
      "metadata": {
        "colab": {
          "base_uri": "https://localhost:8080/",
          "height": 36
        },
        "id": "O5qUX3H57O3S",
        "outputId": "3bad5b2a-75c5-48d5-bceb-688505f3b691"
      },
      "outputs": [
        {
          "data": {
            "application/vnd.google.colaboratory.intrinsic+json": {
              "type": "string"
            },
            "text/plain": [
              "'408-555-1234'"
            ]
          },
          "execution_count": 24,
          "metadata": {},
          "output_type": "execute_result"
        }
      ],
      "source": [
        "phone.group()"
      ]
    },
    {
      "cell_type": "markdown",
      "metadata": {
        "id": "fORtrfVE7O3T"
      },
      "source": [
        "Notice the repetition of \\d. That is a bit of an annoyance, especially if we are looking for very long strings of numbers. Let's explore the possible quantifiers.\n",
        "\n",
        "## Quantifiers\n",
        "\n",
        "Now that we know the special character designations, we can use them along with quantifiers to define how many we expect."
      ]
    },
    {
      "cell_type": "markdown",
      "metadata": {
        "id": "c7d3DR7A7O3T"
      },
      "source": [
        "<table ><tr><th>Character</th><th>Description</th><th>Example Pattern Code</th><th >Exammple Match</th></tr>\n",
        "\n",
        "<tr ><td><span >+</span></td><td>Occurs one or more times</td><td>\tVersion \\w-\\w+</td><td>Version A-b1_1</td></tr>\n",
        "\n",
        "<tr ><td><span >{3}</span></td><td>Occurs exactly 3 times</td><td>\\D{3}</td><td>abc</td></tr>\n",
        "\n",
        "\n",
        "\n",
        "<tr ><td><span >{2,4}</span></td><td>Occurs 2 to 4 times</td><td>\\d{2,4}</td><td>123</td></tr>\n",
        "\n",
        "\n",
        "\n",
        "<tr ><td><span >{3,}</span></td><td>Occurs 3 or more</td><td>\\w{3,}</td><td>anycharacters</td></tr>\n",
        "\n",
        "<tr ><td><span >\\*</span></td><td>Occurs zero or more times</td><td>A\\*B\\*C*</td><td>AAACC</td></tr>\n",
        "\n",
        "<tr ><td><span >?</span></td><td>Once or none</td><td>plurals?</td><td>plural</td></tr></table>"
      ]
    },
    {
      "cell_type": "markdown",
      "metadata": {
        "id": "YmbXkev87O3T"
      },
      "source": [
        "Let's rewrite our pattern using these quantifiers:"
      ]
    },
    {
      "cell_type": "code",
      "execution_count": 25,
      "metadata": {
        "colab": {
          "base_uri": "https://localhost:8080/"
        },
        "id": "_33jrfWu7O3T",
        "outputId": "c1c5efea-8eb1-40ba-d8dc-3e61afad708c"
      },
      "outputs": [
        {
          "data": {
            "text/plain": [
              "<re.Match object; span=(23, 35), match='408-555-1234'>"
            ]
          },
          "execution_count": 25,
          "metadata": {},
          "output_type": "execute_result"
        }
      ],
      "source": [
        "re.search(r'\\d{3}-\\d{3}-\\d{4}',text)"
      ]
    },
    {
      "cell_type": "markdown",
      "metadata": {
        "id": "oxi7Cvvy7O3T"
      },
      "source": [
        "## Groups\n",
        "\n",
        "What if we wanted to do two tasks, find phone numbers, but also be able to quickly extract their area code (the first three digits). We can use groups for any general task that involves grouping together regular expressions (so that we can later break them down).\n",
        "\n",
        "Using the phone number example, we can separate groups of regular expressions using parentheses:"
      ]
    },
    {
      "cell_type": "code",
      "execution_count": 26,
      "metadata": {
        "id": "nA_PzTbI7O3T"
      },
      "outputs": [],
      "source": [
        "phone_pattern = re.compile(r'(\\d{3})-(\\d{3})-(\\d{4})')"
      ]
    },
    {
      "cell_type": "code",
      "execution_count": 27,
      "metadata": {
        "id": "vUvXNZJD7O3U"
      },
      "outputs": [],
      "source": [
        "results = re.search(phone_pattern,text)"
      ]
    },
    {
      "cell_type": "code",
      "execution_count": 28,
      "metadata": {
        "colab": {
          "base_uri": "https://localhost:8080/",
          "height": 36
        },
        "id": "wYKQ2xHn7O3U",
        "outputId": "be8357d0-fd82-44c0-fdcc-9dd94d49810b"
      },
      "outputs": [
        {
          "data": {
            "application/vnd.google.colaboratory.intrinsic+json": {
              "type": "string"
            },
            "text/plain": [
              "'408-555-1234'"
            ]
          },
          "execution_count": 28,
          "metadata": {},
          "output_type": "execute_result"
        }
      ],
      "source": [
        "# The entire result\n",
        "results.group()"
      ]
    },
    {
      "cell_type": "code",
      "execution_count": 29,
      "metadata": {
        "colab": {
          "base_uri": "https://localhost:8080/",
          "height": 36
        },
        "id": "4g78K55o7O3U",
        "outputId": "f24dc6c8-820c-441b-e2cc-fd0596ab8753"
      },
      "outputs": [
        {
          "data": {
            "application/vnd.google.colaboratory.intrinsic+json": {
              "type": "string"
            },
            "text/plain": [
              "'408'"
            ]
          },
          "execution_count": 29,
          "metadata": {},
          "output_type": "execute_result"
        }
      ],
      "source": [
        "# Can then also call by group position.\n",
        "# remember groups were separated by parentheses ()\n",
        "# Something to note is that group ordering starts at 1. Passing in 0 returns everything\n",
        "results.group(1)"
      ]
    },
    {
      "cell_type": "code",
      "execution_count": 30,
      "metadata": {
        "colab": {
          "base_uri": "https://localhost:8080/",
          "height": 36
        },
        "id": "uLTQ6kko7O3U",
        "outputId": "bbc4a3ea-721e-4473-c298-60ff03b7366e"
      },
      "outputs": [
        {
          "data": {
            "application/vnd.google.colaboratory.intrinsic+json": {
              "type": "string"
            },
            "text/plain": [
              "'555'"
            ]
          },
          "execution_count": 30,
          "metadata": {},
          "output_type": "execute_result"
        }
      ],
      "source": [
        "results.group(2)"
      ]
    },
    {
      "cell_type": "code",
      "execution_count": 31,
      "metadata": {
        "colab": {
          "base_uri": "https://localhost:8080/",
          "height": 36
        },
        "id": "bWbvbfWB7O3U",
        "outputId": "742cc379-2090-493c-8602-2ed29aa0a930"
      },
      "outputs": [
        {
          "data": {
            "application/vnd.google.colaboratory.intrinsic+json": {
              "type": "string"
            },
            "text/plain": [
              "'1234'"
            ]
          },
          "execution_count": 31,
          "metadata": {},
          "output_type": "execute_result"
        }
      ],
      "source": [
        "results.group(3)"
      ]
    },
    {
      "cell_type": "markdown",
      "metadata": {
        "id": "VBmibrsY7O3V"
      },
      "source": [
        "## Additional Regex Syntax\n",
        "\n",
        "### Or operator |\n",
        "\n",
        "Use the pipe operator to have an **or** statment. For example"
      ]
    },
    {
      "cell_type": "code",
      "execution_count": 33,
      "metadata": {
        "colab": {
          "base_uri": "https://localhost:8080/"
        },
        "id": "rD3E7MLL7O3V",
        "outputId": "41494bc9-b922-46c2-9020-b16e98c8191a"
      },
      "outputs": [
        {
          "data": {
            "text/plain": [
              "<re.Match object; span=(5, 8), match='man'>"
            ]
          },
          "execution_count": 33,
          "metadata": {},
          "output_type": "execute_result"
        }
      ],
      "source": [
        "re.search(r\"man|woman\",\"This man was here.\")"
      ]
    },
    {
      "cell_type": "code",
      "execution_count": 34,
      "metadata": {
        "colab": {
          "base_uri": "https://localhost:8080/"
        },
        "id": "mxdG_2jN7O3V",
        "outputId": "3bcbc82d-8f5d-4b41-c8ee-f1c22207e235"
      },
      "outputs": [
        {
          "data": {
            "text/plain": [
              "<re.Match object; span=(5, 10), match='woman'>"
            ]
          },
          "execution_count": 34,
          "metadata": {},
          "output_type": "execute_result"
        }
      ],
      "source": [
        "re.search(r\"man|woman\",\"This woman was here.\")"
      ]
    },
    {
      "cell_type": "markdown",
      "metadata": {
        "id": "8XuFKbKF7O3W"
      },
      "source": [
        "### The Wildcard Character\n",
        "\n",
        "Use a \"wildcard\" as a placement that will match any character placed there. You can use a simple period **.** for this. For example:"
      ]
    },
    {
      "cell_type": "code",
      "execution_count": 35,
      "metadata": {
        "colab": {
          "base_uri": "https://localhost:8080/"
        },
        "id": "nchHO9MU7O3W",
        "outputId": "057d5468-4ad0-406d-d617-232d85cbc941"
      },
      "outputs": [
        {
          "data": {
            "text/plain": [
              "['cat', 'hat', 'sat']"
            ]
          },
          "execution_count": 35,
          "metadata": {},
          "output_type": "execute_result"
        }
      ],
      "source": [
        "re.findall(r\".at\",\"The cat in the hat sat here.\")"
      ]
    },
    {
      "cell_type": "code",
      "execution_count": 36,
      "metadata": {
        "colab": {
          "base_uri": "https://localhost:8080/"
        },
        "id": "vD1bR5i47O3W",
        "outputId": "ffacad5d-c8fa-43d2-acea-3d06351b941e"
      },
      "outputs": [
        {
          "data": {
            "text/plain": [
              "['bat', 'lat']"
            ]
          },
          "execution_count": 36,
          "metadata": {},
          "output_type": "execute_result"
        }
      ],
      "source": [
        "re.findall(r\".at\",\"The bat went splat\")"
      ]
    },
    {
      "cell_type": "markdown",
      "metadata": {
        "id": "NAo5rElg7O3W"
      },
      "source": [
        "Notice how we only matched the first 3 letters, that is because we need a **.** for each wildcard letter. Or use the quantifiers described above to set its own rules."
      ]
    },
    {
      "cell_type": "code",
      "execution_count": 37,
      "metadata": {
        "colab": {
          "base_uri": "https://localhost:8080/"
        },
        "id": "AB9NI2sU7O3W",
        "outputId": "f4ddaab5-c1f8-457d-c41b-113362572e93"
      },
      "outputs": [
        {
          "data": {
            "text/plain": [
              "['e bat', 'splat']"
            ]
          },
          "execution_count": 37,
          "metadata": {},
          "output_type": "execute_result"
        }
      ],
      "source": [
        "re.findall(r\"...at\",\"The bat went splat\")"
      ]
    },
    {
      "cell_type": "code",
      "execution_count": 38,
      "metadata": {
        "colab": {
          "base_uri": "https://localhost:8080/"
        },
        "id": "N_GljTSZ7O3X",
        "outputId": "4174d903-5e7b-4d81-abe7-6d9e5baeb6d9"
      },
      "outputs": [
        {
          "data": {
            "text/plain": [
              "['bat', 'splat']"
            ]
          },
          "execution_count": 38,
          "metadata": {},
          "output_type": "execute_result"
        }
      ],
      "source": [
        "# One or more non-whitespace that ends with 'at'\n",
        "re.findall(r'\\S+at',\"The bat went splat\")"
      ]
    },
    {
      "cell_type": "markdown",
      "metadata": {
        "id": "sH5dKQK_7O3X"
      },
      "source": [
        "### Starts With and Ends With\n",
        "\n",
        "We can use the **^** to signal starts with, and the **$** to signal ends with:"
      ]
    },
    {
      "cell_type": "code",
      "execution_count": 39,
      "metadata": {
        "colab": {
          "base_uri": "https://localhost:8080/"
        },
        "id": "nKYSHdfe7O3X",
        "outputId": "e6f927f1-a0fd-453d-93f6-c99144951e58"
      },
      "outputs": [
        {
          "data": {
            "text/plain": [
              "['2']"
            ]
          },
          "execution_count": 39,
          "metadata": {},
          "output_type": "execute_result"
        }
      ],
      "source": [
        "# Ends with a number\n",
        "re.findall(r'\\d$','This ends with a number 2')"
      ]
    },
    {
      "cell_type": "code",
      "execution_count": 40,
      "metadata": {
        "colab": {
          "base_uri": "https://localhost:8080/"
        },
        "id": "WyHcAANo7O3X",
        "outputId": "6f6cd966-3da1-43ba-abb8-557947471571"
      },
      "outputs": [
        {
          "data": {
            "text/plain": [
              "['1']"
            ]
          },
          "execution_count": 40,
          "metadata": {},
          "output_type": "execute_result"
        }
      ],
      "source": [
        "# Starts with a number\n",
        "re.findall(r'^\\d','1 is the loneliest number.')"
      ]
    },
    {
      "cell_type": "markdown",
      "metadata": {
        "id": "PyawMqzC7O3X"
      },
      "source": [
        "Note that this is for the entire string, not individual words!"
      ]
    },
    {
      "cell_type": "markdown",
      "metadata": {
        "id": "Zfn3PAtX7O3X"
      },
      "source": [
        "### Exclusion\n",
        "\n",
        "To exclude characters, we can use the **^** symbol in conjunction with a set of brackets **[]**. Anything inside the brackets is excluded. For example:"
      ]
    },
    {
      "cell_type": "code",
      "execution_count": 41,
      "metadata": {
        "id": "k_LXWKZH7O3Y"
      },
      "outputs": [],
      "source": [
        "phrase = \"there are 3 numbers 34 inside 5 this sentence.\""
      ]
    },
    {
      "cell_type": "code",
      "execution_count": 42,
      "metadata": {
        "colab": {
          "base_uri": "https://localhost:8080/"
        },
        "id": "fCicaLwc7O3Y",
        "outputId": "8cf488f3-d144-4199-e4ca-42be08adeb48"
      },
      "outputs": [
        {
          "data": {
            "text/plain": [
              "['t',\n",
              " 'h',\n",
              " 'e',\n",
              " 'r',\n",
              " 'e',\n",
              " ' ',\n",
              " 'a',\n",
              " 'r',\n",
              " 'e',\n",
              " ' ',\n",
              " ' ',\n",
              " 'n',\n",
              " 'u',\n",
              " 'm',\n",
              " 'b',\n",
              " 'e',\n",
              " 'r',\n",
              " 's',\n",
              " ' ',\n",
              " ' ',\n",
              " 'i',\n",
              " 'n',\n",
              " 's',\n",
              " 'i',\n",
              " 'd',\n",
              " 'e',\n",
              " ' ',\n",
              " ' ',\n",
              " 't',\n",
              " 'h',\n",
              " 'i',\n",
              " 's',\n",
              " ' ',\n",
              " 's',\n",
              " 'e',\n",
              " 'n',\n",
              " 't',\n",
              " 'e',\n",
              " 'n',\n",
              " 'c',\n",
              " 'e',\n",
              " '.']"
            ]
          },
          "execution_count": 42,
          "metadata": {},
          "output_type": "execute_result"
        }
      ],
      "source": [
        "re.findall(r'[^\\d]',phrase)"
      ]
    },
    {
      "cell_type": "markdown",
      "metadata": {
        "id": "TxKrV1O77O3Y"
      },
      "source": [
        "To get the words back together, use a + sign"
      ]
    },
    {
      "cell_type": "code",
      "execution_count": 43,
      "metadata": {
        "colab": {
          "base_uri": "https://localhost:8080/"
        },
        "id": "SIRPX8kg7O3Y",
        "outputId": "6144a9c2-418e-478f-b6da-e7ac3b54a753"
      },
      "outputs": [
        {
          "data": {
            "text/plain": [
              "['there are ', ' numbers ', ' inside ', ' this sentence.']"
            ]
          },
          "execution_count": 43,
          "metadata": {},
          "output_type": "execute_result"
        }
      ],
      "source": [
        "re.findall(r'[^\\d]+',phrase)"
      ]
    },
    {
      "cell_type": "markdown",
      "metadata": {
        "id": "QlD-1eVn7O3Y"
      },
      "source": [
        "We can use this to remove punctuation from a sentence."
      ]
    },
    {
      "cell_type": "code",
      "execution_count": 44,
      "metadata": {
        "id": "gZ0D-fRM7O3Z"
      },
      "outputs": [],
      "source": [
        "test_phrase = 'This is a string! But it has punctuation. How can we remove it?'"
      ]
    },
    {
      "cell_type": "code",
      "execution_count": 45,
      "metadata": {
        "colab": {
          "base_uri": "https://localhost:8080/"
        },
        "id": "bRRoxE3V7O3Z",
        "outputId": "237236ca-9874-4dd9-dbc4-589adba17297"
      },
      "outputs": [
        {
          "data": {
            "text/plain": [
              "['This',\n",
              " 'is',\n",
              " 'a',\n",
              " 'string',\n",
              " 'But',\n",
              " 'it',\n",
              " 'has',\n",
              " 'punctuation',\n",
              " 'How',\n",
              " 'can',\n",
              " 'we',\n",
              " 'remove',\n",
              " 'it']"
            ]
          },
          "execution_count": 45,
          "metadata": {},
          "output_type": "execute_result"
        }
      ],
      "source": [
        "re.findall('[^!.? ]+',test_phrase)"
      ]
    },
    {
      "cell_type": "code",
      "execution_count": 46,
      "metadata": {
        "id": "yepqocTX7O3Z"
      },
      "outputs": [],
      "source": [
        "clean = ' '.join(re.findall('[^!.? ]+',test_phrase))"
      ]
    },
    {
      "cell_type": "code",
      "execution_count": 47,
      "metadata": {
        "colab": {
          "base_uri": "https://localhost:8080/",
          "height": 36
        },
        "id": "tCPug4007O3Z",
        "outputId": "81c5b1d9-a2a4-430b-bb6c-ed00e40ae03c"
      },
      "outputs": [
        {
          "data": {
            "application/vnd.google.colaboratory.intrinsic+json": {
              "type": "string"
            },
            "text/plain": [
              "'This is a string But it has punctuation How can we remove it'"
            ]
          },
          "execution_count": 47,
          "metadata": {},
          "output_type": "execute_result"
        }
      ],
      "source": [
        "clean"
      ]
    },
    {
      "cell_type": "markdown",
      "metadata": {
        "id": "qXB6dh9c7O3Z"
      },
      "source": [
        "## Brackets for Grouping\n",
        "\n",
        "As we showed above we can use brackets to group together options, for example if we wanted to find hyphenated words:"
      ]
    },
    {
      "cell_type": "code",
      "execution_count": 48,
      "metadata": {
        "id": "TtA_7_C_7O3a"
      },
      "outputs": [],
      "source": [
        "text = 'Only find the hypen-words in this sentence. But you do not know how long-ish they are'"
      ]
    },
    {
      "cell_type": "code",
      "execution_count": 49,
      "metadata": {
        "colab": {
          "base_uri": "https://localhost:8080/"
        },
        "id": "xaTJerSE7O3a",
        "outputId": "ca8a9af8-0a72-430f-fd45-62322436bb1c"
      },
      "outputs": [
        {
          "data": {
            "text/plain": [
              "['hypen-words', 'long-ish']"
            ]
          },
          "execution_count": 49,
          "metadata": {},
          "output_type": "execute_result"
        }
      ],
      "source": [
        "re.findall(r'[\\w]+-[\\w]+',text)"
      ]
    },
    {
      "cell_type": "markdown",
      "metadata": {
        "id": "49ABSdKN7O3a"
      },
      "source": [
        "## Parentheses for Multiple Options\n",
        "\n",
        "If we have multiple options for matching, we can use parentheses to list out these options. For Example:"
      ]
    },
    {
      "cell_type": "code",
      "execution_count": 50,
      "metadata": {
        "id": "KAaRQfWu7O3a"
      },
      "outputs": [],
      "source": [
        "# Find words that start with cat and end with one of these options: 'fish','nap', or 'claw'\n",
        "text = 'Hello, would you like some catfish?'\n",
        "texttwo = \"Hello, would you like to take a catnap?\"\n",
        "textthree = \"Hello, have you seen this caterpillar?\""
      ]
    },
    {
      "cell_type": "code",
      "execution_count": 51,
      "metadata": {
        "colab": {
          "base_uri": "https://localhost:8080/"
        },
        "id": "C0tRzUrK7O3b",
        "outputId": "d1f0bed2-0e5d-4874-a92b-bb13b7e27fe6"
      },
      "outputs": [
        {
          "data": {
            "text/plain": [
              "<re.Match object; span=(27, 34), match='catfish'>"
            ]
          },
          "execution_count": 51,
          "metadata": {},
          "output_type": "execute_result"
        }
      ],
      "source": [
        "re.search(r'cat(fish|nap|claw)',text)"
      ]
    },
    {
      "cell_type": "code",
      "execution_count": 52,
      "metadata": {
        "colab": {
          "base_uri": "https://localhost:8080/"
        },
        "id": "70LyvqGh7O3b",
        "outputId": "5775a618-4af0-4ec2-e6dd-30b7ac0b75d1"
      },
      "outputs": [
        {
          "data": {
            "text/plain": [
              "<re.Match object; span=(32, 38), match='catnap'>"
            ]
          },
          "execution_count": 52,
          "metadata": {},
          "output_type": "execute_result"
        }
      ],
      "source": [
        "re.search(r'cat(fish|nap|claw)',texttwo)"
      ]
    },
    {
      "cell_type": "code",
      "execution_count": 53,
      "metadata": {
        "id": "d4zHkG517O3b"
      },
      "outputs": [],
      "source": [
        "# None returned\n",
        "re.search(r'cat(fish|nap|claw)',textthree)"
      ]
    },
    {
      "cell_type": "markdown",
      "metadata": {
        "id": "ZqBcZstJ7O3b"
      },
      "source": [
        "### Conclusion\n",
        " For full information on all possible patterns, check out: https://docs.python.org/3/howto/regex.html"
      ]
    }
  ],
  "metadata": {
    "colab": {
      "provenance": []
    },
    "kernelspec": {
      "display_name": "Python 3 (ipykernel)",
      "language": "python",
      "name": "python3"
    },
    "language_info": {
      "codemirror_mode": {
        "name": "ipython",
        "version": 3
      },
      "file_extension": ".py",
      "mimetype": "text/x-python",
      "name": "python",
      "nbconvert_exporter": "python",
      "pygments_lexer": "ipython3",
      "version": "3.7.16"
    }
  },
  "nbformat": 4,
  "nbformat_minor": 0
}
