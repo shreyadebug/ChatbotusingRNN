{
 "cells": [
  {
   "cell_type": "code",
   "execution_count": 1,
   "id": "1f99a204",
   "metadata": {},
   "outputs": [],
   "source": [
    "import spacy\n",
    "import nltk\n",
    "import pandas as pd"
   ]
  },
  {
   "cell_type": "code",
   "execution_count": 2,
   "id": "7901daaa",
   "metadata": {},
   "outputs": [],
   "source": [
    "nlp=spacy.load('en_core_web_lg')"
   ]
  },
  {
   "cell_type": "code",
   "execution_count": 3,
   "id": "a8e9fa66",
   "metadata": {},
   "outputs": [],
   "source": [
    "df=pd.read_csv('moviereviews.tsv',sep='\\t')"
   ]
  },
  {
   "cell_type": "markdown",
   "id": "6236c49d",
   "metadata": {},
   "source": [
    "### Word Vectors"
   ]
  },
  {
   "cell_type": "code",
   "execution_count": 4,
   "id": "0478d475",
   "metadata": {},
   "outputs": [
    {
     "data": {
      "text/plain": [
       "array([-1.3071    ,  5.3316746 , -4.4923754 , -1.745275  ,  4.117545  ,\n",
       "        0.06277502, -1.765725  ,  4.0765495 ,  0.9559575 ,  2.0773022 ,\n",
       "       10.423725  , -0.42385006, -1.7714683 , -0.16087496,  3.5445375 ,\n",
       "        3.580075  ,  2.006786  ,  1.7220249 ,  1.06923   ,  0.30959508,\n",
       "        0.16140008,  1.555975  , -3.7113152 ,  0.21937507, -1.824605  ,\n",
       "       -2.8309498 , -0.5800251 , -1.6252253 , -3.1270752 , -1.0652299 ,\n",
       "        1.2348949 ,  0.6315675 , -3.2009501 , -1.1612874 , -1.9292749 ,\n",
       "        1.6606023 ,  0.5280075 ,  1.6455374 ,  6.48235   , -1.8718251 ,\n",
       "       -1.635585  , -0.762025  ,  3.2665324 ,  1.2128999 , -2.0247526 ,\n",
       "        2.1686254 ,  4.864995  , -4.42739   , -1.0794876 , -0.06810248,\n",
       "        1.52633   ,  2.7944026 ,  4.4619274 , -3.0021253 , -0.41062492,\n",
       "        0.097875  ,  5.7438498 , -1.0619    , -0.388425  ,  0.341425  ,\n",
       "        1.684905  , -2.1802852 , -0.95015   , -1.2939501 , -4.12195   ,\n",
       "       -0.06771243, -4.970125  , -5.876175  ,  2.1812174 ,  3.69415   ,\n",
       "        0.6948644 ,  4.033175  , -6.453255  ,  0.322722  , -0.63296   ,\n",
       "        2.7967002 , -3.6790376 ,  5.0000625 , -3.1517248 , -1.8486998 ,\n",
       "       -7.0390005 , -3.4094002 ,  2.829175  , -0.06542498,  0.98929995,\n",
       "       -0.5327626 ,  2.2360249 ,  0.7736349 ,  4.027975  , -3.3947275 ,\n",
       "       -0.40917504, -7.277297  ,  2.5971    , -7.86155   ,  1.1607176 ,\n",
       "       -4.645325  , -0.4048425 ,  0.28537506, -0.5975951 , -7.1906004 ,\n",
       "        0.9638499 ,  1.0151526 ,  7.1137247 ,  6.9606247 ,  1.9909775 ,\n",
       "        6.4535327 , -2.7170951 ,  2.0237498 , -3.2573445 ,  2.69206   ,\n",
       "        0.28834507,  3.5525248 , -0.15257764,  4.7503    ,  0.21469253,\n",
       "       -1.1040502 , -4.4763274 ,  0.18832505,  2.277075  , -0.05349994,\n",
       "       -1.29264   , -1.1531751 , -2.2085052 ,  6.4545    , -4.6275997 ,\n",
       "       -8.201425  , -2.4725    ,  0.5413375 ,  5.3527    , -1.4351074 ,\n",
       "       -1.260575  , -2.870975  ,  7.0686746 , -7.178575  ,  2.0058    ,\n",
       "        1.65277   ,  2.371225  , -3.1437998 ,  5.28125   , -3.9354749 ,\n",
       "       -2.864675  ,  0.34062493,  3.5866299 ,  3.2231874 , -0.22811735,\n",
       "       -0.06937495, -2.5426853 ,  0.42807508, -2.5761752 ,  4.569937  ,\n",
       "        4.658825  ,  4.67093   ,  1.7329099 ,  2.0863752 ,  0.21024501,\n",
       "        1.3052926 ,  6.6982    ,  4.550225  ,  0.896985  , -1.0844926 ,\n",
       "       -1.3707651 , -2.7514362 ,  3.24095   ,  1.3764625 , -3.088575  ,\n",
       "       -3.004775  , -4.305825  ,  6.6035495 ,  2.8668551 ,  1.4782876 ,\n",
       "        3.9140797 , -0.4746626 ,  3.012995  ,  2.8139253 ,  0.73025   ,\n",
       "       -5.01195   ,  0.2546475 , -0.59344995, -4.19344   , -1.1699251 ,\n",
       "       -1.1772076 ,  1.983925  ,  3.35644   , -1.749575  , -3.98055   ,\n",
       "       -0.5347001 , -5.008625  , -4.0203    , -1.3201025 ,  4.3951077 ,\n",
       "       -1.9003999 ,  0.7750775 , -1.3633751 , -2.0763726 ,  2.6739874 ,\n",
       "        0.1789999 , -3.7248    , -0.17875004,  4.64195   , -4.72133   ,\n",
       "        0.95659494, -2.1588926 , -4.4891    , -4.241378  ,  0.6593    ,\n",
       "        1.3049874 , -4.875832  ,  0.14854999, -3.3758426 , -2.4603    ,\n",
       "        3.689275  ,  2.1333575 , -0.896225  ,  2.4029374 ,  0.32895994,\n",
       "        0.2891999 ,  0.90918005, -2.7049928 , -2.8169274 , -1.2367275 ,\n",
       "       -1.5249624 , -2.0997474 ,  1.7673125 , -1.0261    ,  0.886225  ,\n",
       "        3.166175  ,  2.1552026 , -1.1287    ,  5.7792497 , -1.1999725 ,\n",
       "        0.78305006, -7.6364503 ,  2.1155    ,  4.756625  , -3.024225  ,\n",
       "        2.548925  , -0.46395   ,  0.73415005,  1.159475  ,  1.9549602 ,\n",
       "        2.505955  , -0.523015  ,  3.939775  ,  2.5944998 , -3.7378902 ,\n",
       "       -0.782275  , -4.288475  ,  2.1867175 , -1.7032249 ,  6.624425  ,\n",
       "        0.30804998,  1.6455474 , -6.7689753 , -4.8598    , -4.3970747 ,\n",
       "       -2.3461828 ,  1.519033  ,  6.498075  ,  1.77775   , -0.731205  ,\n",
       "       -2.12435   ,  2.7192001 ,  0.86140245,  5.4472246 , -3.0979424 ,\n",
       "       -0.5021826 , -1.7953    ,  0.43538755, -4.9607825 ,  2.138935  ,\n",
       "        4.306675  , -0.852825  ,  0.01529756, -3.694475  ,  3.965425  ,\n",
       "        0.47457492,  1.2211249 ,  3.364875  , -0.9872999 , -0.30675507,\n",
       "        0.988315  , -4.237575  , -3.07234   , -1.5407238 ,  7.249448  ,\n",
       "       -2.2007499 ,  3.2843504 , -0.31810498, -5.0395746 ,  3.2875001 ,\n",
       "        1.254175  , -1.7169751 ,  5.11371   , -0.01798746, -1.9662825 ,\n",
       "        2.3982525 , -1.8023    ,  3.9127924 , -4.5216675 ,  4.7907863 ],\n",
       "      dtype=float32)"
      ]
     },
     "execution_count": 4,
     "metadata": {},
     "output_type": "execute_result"
    }
   ],
   "source": [
    "nlp(u'There is a dog').vector"
   ]
  },
  {
   "cell_type": "code",
   "execution_count": 5,
   "id": "ee101ca6",
   "metadata": {},
   "outputs": [
    {
     "name": "stdout",
     "output_type": "stream",
     "text": [
      "lion lion 1.0\n",
      "lion cat 0.3854507803916931\n",
      "lion pet 0.20031584799289703\n",
      "cat lion 0.3854507803916931\n",
      "cat cat 1.0\n",
      "cat pet 0.732966423034668\n",
      "pet lion 0.20031584799289703\n",
      "pet cat 0.732966423034668\n",
      "pet pet 1.0\n"
     ]
    }
   ],
   "source": [
    "doc=nlp(u'lion cat pet')\n",
    "for i in doc:\n",
    "    for j in doc:\n",
    "        print(i.text,j.text,i.similarity(j))"
   ]
  },
  {
   "cell_type": "code",
   "execution_count": 6,
   "id": "4c98d092",
   "metadata": {},
   "outputs": [
    {
     "name": "stdout",
     "output_type": "stream",
     "text": [
      "like like 1.0\n",
      "like love 0.5212638974189758\n",
      "like hate 0.5065141320228577\n",
      "love like 0.5212638974189758\n",
      "love love 1.0\n",
      "love hate 0.5708349943161011\n",
      "hate like 0.5065141320228577\n",
      "hate love 0.5708349943161011\n",
      "hate hate 1.0\n"
     ]
    }
   ],
   "source": [
    "doc=nlp(u'like love hate')\n",
    "for i in doc:\n",
    "    for j in doc:\n",
    "        print(i.text,j.text,i.similarity(j))"
   ]
  },
  {
   "cell_type": "markdown",
   "id": "104d9581",
   "metadata": {},
   "source": [
    "### Vector Norms"
   ]
  },
  {
   "cell_type": "code",
   "execution_count": 7,
   "id": "341d8809",
   "metadata": {},
   "outputs": [
    {
     "data": {
      "text/plain": [
       "55.14573486169834"
      ]
     },
     "execution_count": 7,
     "metadata": {},
     "output_type": "execute_result"
    }
   ],
   "source": [
    "nlp(u'lion').vector_norm #L2 Norm :Euclidean Norm  |x|2=sqrt(sum(xi)^2)"
   ]
  },
  {
   "cell_type": "code",
   "execution_count": 8,
   "id": "c960639c",
   "metadata": {},
   "outputs": [
    {
     "data": {
      "text/plain": [
       "False"
      ]
     },
     "execution_count": 8,
     "metadata": {},
     "output_type": "execute_result"
    }
   ],
   "source": [
    "nlp(u'liob').has_vector"
   ]
  },
  {
   "cell_type": "code",
   "execution_count": 9,
   "id": "d23ea235",
   "metadata": {},
   "outputs": [],
   "source": [
    "from scipy import spatial\n",
    "cosine_similarity = lambda vec1,vec2 : 1 - spatial.distance.cosine(vec1,vec2)\n",
    "king=nlp.vocab['king'].vector\n",
    "man=nlp.vocab['man'].vector\n",
    "woman=nlp.vocab['woman'].vector\n",
    "vector_x=king-man+woman\n"
   ]
  },
  {
   "cell_type": "code",
   "execution_count": 10,
   "id": "8985dc71",
   "metadata": {},
   "outputs": [],
   "source": [
    "calculated_similarities=[]\n",
    "for word in nlp.vocab:\n",
    "    if word.has_vector:\n",
    "        if word.is_lower:\n",
    "            if word.is_alpha:\n",
    "                similarity=cosine_similarity(vector_x,word.vector)\n",
    "                calculated_similarities.append((word,similarity))\n",
    "calculated_similarities=sorted(calculated_similarities,key=lambda item: -item[1])"
   ]
  },
  {
   "cell_type": "code",
   "execution_count": 11,
   "id": "b2c1b5d0",
   "metadata": {},
   "outputs": [
    {
     "name": "stdout",
     "output_type": "stream",
     "text": [
      "<generator object <genexpr> at 0x7f603d7a0a00>\n"
     ]
    }
   ],
   "source": [
    "print(i[0].text for i in calculated_similarities[:5])"
   ]
  },
  {
   "cell_type": "code",
   "execution_count": 12,
   "id": "313d74af",
   "metadata": {},
   "outputs": [
    {
     "data": {
      "text/plain": [
       "'where'"
      ]
     },
     "execution_count": 12,
     "metadata": {},
     "output_type": "execute_result"
    }
   ],
   "source": [
    "calculated_similarities[3][0].text"
   ]
  },
  {
   "cell_type": "code",
   "execution_count": 13,
   "id": "cb657e79",
   "metadata": {},
   "outputs": [
    {
     "data": {
      "text/html": [
       "<div>\n",
       "<style scoped>\n",
       "    .dataframe tbody tr th:only-of-type {\n",
       "        vertical-align: middle;\n",
       "    }\n",
       "\n",
       "    .dataframe tbody tr th {\n",
       "        vertical-align: top;\n",
       "    }\n",
       "\n",
       "    .dataframe thead th {\n",
       "        text-align: right;\n",
       "    }\n",
       "</style>\n",
       "<table border=\"1\" class=\"dataframe\">\n",
       "  <thead>\n",
       "    <tr style=\"text-align: right;\">\n",
       "      <th></th>\n",
       "      <th>label</th>\n",
       "      <th>review</th>\n",
       "    </tr>\n",
       "  </thead>\n",
       "  <tbody>\n",
       "    <tr>\n",
       "      <th>0</th>\n",
       "      <td>neg</td>\n",
       "      <td>how do films like mouse hunt get into theatres...</td>\n",
       "    </tr>\n",
       "    <tr>\n",
       "      <th>1</th>\n",
       "      <td>neg</td>\n",
       "      <td>some talented actresses are blessed with a dem...</td>\n",
       "    </tr>\n",
       "    <tr>\n",
       "      <th>2</th>\n",
       "      <td>pos</td>\n",
       "      <td>this has been an extraordinary year for austra...</td>\n",
       "    </tr>\n",
       "    <tr>\n",
       "      <th>3</th>\n",
       "      <td>pos</td>\n",
       "      <td>according to hollywood movies made in last few...</td>\n",
       "    </tr>\n",
       "    <tr>\n",
       "      <th>4</th>\n",
       "      <td>neg</td>\n",
       "      <td>my first press screening of 1998 and already i...</td>\n",
       "    </tr>\n",
       "    <tr>\n",
       "      <th>...</th>\n",
       "      <td>...</td>\n",
       "      <td>...</td>\n",
       "    </tr>\n",
       "    <tr>\n",
       "      <th>1995</th>\n",
       "      <td>pos</td>\n",
       "      <td>i like movies with albert brooks , and i reall...</td>\n",
       "    </tr>\n",
       "    <tr>\n",
       "      <th>1996</th>\n",
       "      <td>pos</td>\n",
       "      <td>it might surprise some to know that joel and e...</td>\n",
       "    </tr>\n",
       "    <tr>\n",
       "      <th>1997</th>\n",
       "      <td>pos</td>\n",
       "      <td>the verdict : spine-chilling drama from horror...</td>\n",
       "    </tr>\n",
       "    <tr>\n",
       "      <th>1998</th>\n",
       "      <td>pos</td>\n",
       "      <td>i want to correct what i wrote in a former ret...</td>\n",
       "    </tr>\n",
       "    <tr>\n",
       "      <th>1999</th>\n",
       "      <td>pos</td>\n",
       "      <td>a couple of months ago , when i first download...</td>\n",
       "    </tr>\n",
       "  </tbody>\n",
       "</table>\n",
       "<p>2000 rows × 2 columns</p>\n",
       "</div>"
      ],
      "text/plain": [
       "     label                                             review\n",
       "0      neg  how do films like mouse hunt get into theatres...\n",
       "1      neg  some talented actresses are blessed with a dem...\n",
       "2      pos  this has been an extraordinary year for austra...\n",
       "3      pos  according to hollywood movies made in last few...\n",
       "4      neg  my first press screening of 1998 and already i...\n",
       "...    ...                                                ...\n",
       "1995   pos  i like movies with albert brooks , and i reall...\n",
       "1996   pos  it might surprise some to know that joel and e...\n",
       "1997   pos  the verdict : spine-chilling drama from horror...\n",
       "1998   pos  i want to correct what i wrote in a former ret...\n",
       "1999   pos  a couple of months ago , when i first download...\n",
       "\n",
       "[2000 rows x 2 columns]"
      ]
     },
     "execution_count": 13,
     "metadata": {},
     "output_type": "execute_result"
    }
   ],
   "source": [
    "df"
   ]
  },
  {
   "cell_type": "code",
   "execution_count": 14,
   "id": "94f0f4dc",
   "metadata": {},
   "outputs": [
    {
     "name": "stderr",
     "output_type": "stream",
     "text": [
      "[nltk_data] Downloading package vader_lexicon to\n",
      "[nltk_data]     /home/akm17/nltk_data...\n",
      "[nltk_data]   Package vader_lexicon is already up-to-date!\n"
     ]
    },
    {
     "data": {
      "text/plain": [
       "True"
      ]
     },
     "execution_count": 14,
     "metadata": {},
     "output_type": "execute_result"
    }
   ],
   "source": [
    "nltk.download('vader_lexicon')"
   ]
  },
  {
   "cell_type": "code",
   "execution_count": 15,
   "id": "65bebf50",
   "metadata": {},
   "outputs": [],
   "source": [
    "from nltk.sentiment.vader import SentimentIntensityAnalyzer\n",
    "sid=SentimentIntensityAnalyzer()"
   ]
  },
  {
   "cell_type": "code",
   "execution_count": 16,
   "id": "fbbbe342",
   "metadata": {},
   "outputs": [
    {
     "data": {
      "text/plain": [
       "{'neg': 0.0, 'neu': 0.277, 'pos': 0.723, 'compound': 0.8331}"
      ]
     },
     "execution_count": 16,
     "metadata": {},
     "output_type": "execute_result"
    }
   ],
   "source": [
    "a=\"This was a GREAT movie :)\"\n",
    "sid.polarity_scores(a)"
   ]
  },
  {
   "cell_type": "code",
   "execution_count": 17,
   "id": "795aa1b5",
   "metadata": {},
   "outputs": [
    {
     "data": {
      "text/plain": [
       "label\n",
       "neg    1000\n",
       "pos    1000\n",
       "Name: count, dtype: int64"
      ]
     },
     "execution_count": 17,
     "metadata": {},
     "output_type": "execute_result"
    }
   ],
   "source": [
    "df['label'].value_counts()"
   ]
  },
  {
   "cell_type": "code",
   "execution_count": 18,
   "id": "7953462c",
   "metadata": {},
   "outputs": [
    {
     "name": "stdout",
     "output_type": "stream",
     "text": [
      "<class 'pandas.core.frame.DataFrame'>\n",
      "RangeIndex: 2000 entries, 0 to 1999\n",
      "Data columns (total 2 columns):\n",
      " #   Column  Non-Null Count  Dtype \n",
      "---  ------  --------------  ----- \n",
      " 0   label   2000 non-null   object\n",
      " 1   review  1965 non-null   object\n",
      "dtypes: object(2)\n",
      "memory usage: 31.4+ KB\n"
     ]
    }
   ],
   "source": [
    "df.info()"
   ]
  },
  {
   "cell_type": "code",
   "execution_count": 19,
   "id": "73a2c159",
   "metadata": {},
   "outputs": [],
   "source": [
    "df.dropna(inplace=True)\n",
    "empty=[]\n",
    "for i,j,k in df.itertuples():\n",
    "    if type(k)==str:\n",
    "        if k.isspace():\n",
    "            empty.append(i)\n",
    "df.drop(empty,inplace=True)"
   ]
  },
  {
   "cell_type": "code",
   "execution_count": 20,
   "id": "798b2a6c",
   "metadata": {},
   "outputs": [
    {
     "name": "stdout",
     "output_type": "stream",
     "text": [
      "<class 'pandas.core.frame.DataFrame'>\n",
      "Index: 1938 entries, 0 to 1999\n",
      "Data columns (total 2 columns):\n",
      " #   Column  Non-Null Count  Dtype \n",
      "---  ------  --------------  ----- \n",
      " 0   label   1938 non-null   object\n",
      " 1   review  1938 non-null   object\n",
      "dtypes: object(2)\n",
      "memory usage: 45.4+ KB\n"
     ]
    }
   ],
   "source": [
    "df.info()"
   ]
  },
  {
   "cell_type": "code",
   "execution_count": 22,
   "id": "8d803f7c",
   "metadata": {},
   "outputs": [
    {
     "data": {
      "text/html": [
       "<div>\n",
       "<style scoped>\n",
       "    .dataframe tbody tr th:only-of-type {\n",
       "        vertical-align: middle;\n",
       "    }\n",
       "\n",
       "    .dataframe tbody tr th {\n",
       "        vertical-align: top;\n",
       "    }\n",
       "\n",
       "    .dataframe thead th {\n",
       "        text-align: right;\n",
       "    }\n",
       "</style>\n",
       "<table border=\"1\" class=\"dataframe\">\n",
       "  <thead>\n",
       "    <tr style=\"text-align: right;\">\n",
       "      <th></th>\n",
       "      <th>label</th>\n",
       "      <th>review</th>\n",
       "      <th>scores</th>\n",
       "    </tr>\n",
       "  </thead>\n",
       "  <tbody>\n",
       "    <tr>\n",
       "      <th>0</th>\n",
       "      <td>neg</td>\n",
       "      <td>how do films like mouse hunt get into theatres...</td>\n",
       "      <td>{'neg': 0.121, 'neu': 0.778, 'pos': 0.101, 'co...</td>\n",
       "    </tr>\n",
       "    <tr>\n",
       "      <th>1</th>\n",
       "      <td>neg</td>\n",
       "      <td>some talented actresses are blessed with a dem...</td>\n",
       "      <td>{'neg': 0.12, 'neu': 0.775, 'pos': 0.105, 'com...</td>\n",
       "    </tr>\n",
       "    <tr>\n",
       "      <th>2</th>\n",
       "      <td>pos</td>\n",
       "      <td>this has been an extraordinary year for austra...</td>\n",
       "      <td>{'neg': 0.068, 'neu': 0.781, 'pos': 0.15, 'com...</td>\n",
       "    </tr>\n",
       "    <tr>\n",
       "      <th>3</th>\n",
       "      <td>pos</td>\n",
       "      <td>according to hollywood movies made in last few...</td>\n",
       "      <td>{'neg': 0.071, 'neu': 0.782, 'pos': 0.147, 'co...</td>\n",
       "    </tr>\n",
       "    <tr>\n",
       "      <th>4</th>\n",
       "      <td>neg</td>\n",
       "      <td>my first press screening of 1998 and already i...</td>\n",
       "      <td>{'neg': 0.091, 'neu': 0.817, 'pos': 0.093, 'co...</td>\n",
       "    </tr>\n",
       "  </tbody>\n",
       "</table>\n",
       "</div>"
      ],
      "text/plain": [
       "  label                                             review  \\\n",
       "0   neg  how do films like mouse hunt get into theatres...   \n",
       "1   neg  some talented actresses are blessed with a dem...   \n",
       "2   pos  this has been an extraordinary year for austra...   \n",
       "3   pos  according to hollywood movies made in last few...   \n",
       "4   neg  my first press screening of 1998 and already i...   \n",
       "\n",
       "                                              scores  \n",
       "0  {'neg': 0.121, 'neu': 0.778, 'pos': 0.101, 'co...  \n",
       "1  {'neg': 0.12, 'neu': 0.775, 'pos': 0.105, 'com...  \n",
       "2  {'neg': 0.068, 'neu': 0.781, 'pos': 0.15, 'com...  \n",
       "3  {'neg': 0.071, 'neu': 0.782, 'pos': 0.147, 'co...  \n",
       "4  {'neg': 0.091, 'neu': 0.817, 'pos': 0.093, 'co...  "
      ]
     },
     "execution_count": 22,
     "metadata": {},
     "output_type": "execute_result"
    }
   ],
   "source": [
    "df['scores']=df['review'].apply(lambda review: sid.polarity_scores(review))\n",
    "df.head()"
   ]
  },
  {
   "cell_type": "code",
   "execution_count": 23,
   "id": "57cb06ac",
   "metadata": {},
   "outputs": [
    {
     "data": {
      "text/html": [
       "<div>\n",
       "<style scoped>\n",
       "    .dataframe tbody tr th:only-of-type {\n",
       "        vertical-align: middle;\n",
       "    }\n",
       "\n",
       "    .dataframe tbody tr th {\n",
       "        vertical-align: top;\n",
       "    }\n",
       "\n",
       "    .dataframe thead th {\n",
       "        text-align: right;\n",
       "    }\n",
       "</style>\n",
       "<table border=\"1\" class=\"dataframe\">\n",
       "  <thead>\n",
       "    <tr style=\"text-align: right;\">\n",
       "      <th></th>\n",
       "      <th>label</th>\n",
       "      <th>review</th>\n",
       "      <th>scores</th>\n",
       "      <th>compound</th>\n",
       "      <th>label_vader</th>\n",
       "    </tr>\n",
       "  </thead>\n",
       "  <tbody>\n",
       "    <tr>\n",
       "      <th>0</th>\n",
       "      <td>neg</td>\n",
       "      <td>how do films like mouse hunt get into theatres...</td>\n",
       "      <td>{'neg': 0.121, 'neu': 0.778, 'pos': 0.101, 'co...</td>\n",
       "      <td>-0.9125</td>\n",
       "      <td>neg</td>\n",
       "    </tr>\n",
       "    <tr>\n",
       "      <th>1</th>\n",
       "      <td>neg</td>\n",
       "      <td>some talented actresses are blessed with a dem...</td>\n",
       "      <td>{'neg': 0.12, 'neu': 0.775, 'pos': 0.105, 'com...</td>\n",
       "      <td>-0.8618</td>\n",
       "      <td>neg</td>\n",
       "    </tr>\n",
       "    <tr>\n",
       "      <th>2</th>\n",
       "      <td>pos</td>\n",
       "      <td>this has been an extraordinary year for austra...</td>\n",
       "      <td>{'neg': 0.068, 'neu': 0.781, 'pos': 0.15, 'com...</td>\n",
       "      <td>0.9951</td>\n",
       "      <td>pos</td>\n",
       "    </tr>\n",
       "    <tr>\n",
       "      <th>3</th>\n",
       "      <td>pos</td>\n",
       "      <td>according to hollywood movies made in last few...</td>\n",
       "      <td>{'neg': 0.071, 'neu': 0.782, 'pos': 0.147, 'co...</td>\n",
       "      <td>0.9972</td>\n",
       "      <td>pos</td>\n",
       "    </tr>\n",
       "    <tr>\n",
       "      <th>4</th>\n",
       "      <td>neg</td>\n",
       "      <td>my first press screening of 1998 and already i...</td>\n",
       "      <td>{'neg': 0.091, 'neu': 0.817, 'pos': 0.093, 'co...</td>\n",
       "      <td>-0.2484</td>\n",
       "      <td>neg</td>\n",
       "    </tr>\n",
       "    <tr>\n",
       "      <th>5</th>\n",
       "      <td>neg</td>\n",
       "      <td>to put it bluntly , ed wood would have been pr...</td>\n",
       "      <td>{'neg': 0.123, 'neu': 0.821, 'pos': 0.056, 'co...</td>\n",
       "      <td>-0.9855</td>\n",
       "      <td>neg</td>\n",
       "    </tr>\n",
       "    <tr>\n",
       "      <th>6</th>\n",
       "      <td>neg</td>\n",
       "      <td>synopsis : melissa , a mentally-disturbed woma...</td>\n",
       "      <td>{'neg': 0.087, 'neu': 0.742, 'pos': 0.17, 'com...</td>\n",
       "      <td>0.9871</td>\n",
       "      <td>pos</td>\n",
       "    </tr>\n",
       "    <tr>\n",
       "      <th>7</th>\n",
       "      <td>neg</td>\n",
       "      <td>tim robbins and martin lawernce team up in thi...</td>\n",
       "      <td>{'neg': 0.118, 'neu': 0.709, 'pos': 0.172, 'co...</td>\n",
       "      <td>0.9829</td>\n",
       "      <td>pos</td>\n",
       "    </tr>\n",
       "    <tr>\n",
       "      <th>8</th>\n",
       "      <td>neg</td>\n",
       "      <td>in \" gia \" , angelina jolie plays the titular ...</td>\n",
       "      <td>{'neg': 0.082, 'neu': 0.862, 'pos': 0.056, 'co...</td>\n",
       "      <td>-0.8278</td>\n",
       "      <td>neg</td>\n",
       "    </tr>\n",
       "    <tr>\n",
       "      <th>9</th>\n",
       "      <td>neg</td>\n",
       "      <td>in 1990 , the surprise success an unheralded l...</td>\n",
       "      <td>{'neg': 0.145, 'neu': 0.728, 'pos': 0.127, 'co...</td>\n",
       "      <td>-0.9147</td>\n",
       "      <td>neg</td>\n",
       "    </tr>\n",
       "  </tbody>\n",
       "</table>\n",
       "</div>"
      ],
      "text/plain": [
       "  label                                             review  \\\n",
       "0   neg  how do films like mouse hunt get into theatres...   \n",
       "1   neg  some talented actresses are blessed with a dem...   \n",
       "2   pos  this has been an extraordinary year for austra...   \n",
       "3   pos  according to hollywood movies made in last few...   \n",
       "4   neg  my first press screening of 1998 and already i...   \n",
       "5   neg  to put it bluntly , ed wood would have been pr...   \n",
       "6   neg  synopsis : melissa , a mentally-disturbed woma...   \n",
       "7   neg  tim robbins and martin lawernce team up in thi...   \n",
       "8   neg  in \" gia \" , angelina jolie plays the titular ...   \n",
       "9   neg  in 1990 , the surprise success an unheralded l...   \n",
       "\n",
       "                                              scores  compound label_vader  \n",
       "0  {'neg': 0.121, 'neu': 0.778, 'pos': 0.101, 'co...   -0.9125         neg  \n",
       "1  {'neg': 0.12, 'neu': 0.775, 'pos': 0.105, 'com...   -0.8618         neg  \n",
       "2  {'neg': 0.068, 'neu': 0.781, 'pos': 0.15, 'com...    0.9951         pos  \n",
       "3  {'neg': 0.071, 'neu': 0.782, 'pos': 0.147, 'co...    0.9972         pos  \n",
       "4  {'neg': 0.091, 'neu': 0.817, 'pos': 0.093, 'co...   -0.2484         neg  \n",
       "5  {'neg': 0.123, 'neu': 0.821, 'pos': 0.056, 'co...   -0.9855         neg  \n",
       "6  {'neg': 0.087, 'neu': 0.742, 'pos': 0.17, 'com...    0.9871         pos  \n",
       "7  {'neg': 0.118, 'neu': 0.709, 'pos': 0.172, 'co...    0.9829         pos  \n",
       "8  {'neg': 0.082, 'neu': 0.862, 'pos': 0.056, 'co...   -0.8278         neg  \n",
       "9  {'neg': 0.145, 'neu': 0.728, 'pos': 0.127, 'co...   -0.9147         neg  "
      ]
     },
     "execution_count": 23,
     "metadata": {},
     "output_type": "execute_result"
    }
   ],
   "source": [
    "df['compound']=df['scores'].apply(lambda score1:score1['compound'])\n",
    "df['label_vader']=df['compound'].apply(lambda c:'pos' if c>=0 else 'neg')\n",
    "df.head(10)"
   ]
  },
  {
   "cell_type": "code",
   "execution_count": 24,
   "id": "98b3481c",
   "metadata": {},
   "outputs": [],
   "source": [
    "from sklearn.metrics import accuracy_score"
   ]
  },
  {
   "cell_type": "code",
   "execution_count": 25,
   "id": "bba21702",
   "metadata": {},
   "outputs": [
    {
     "data": {
      "text/plain": [
       "0.6357069143446853"
      ]
     },
     "execution_count": 25,
     "metadata": {},
     "output_type": "execute_result"
    }
   ],
   "source": [
    "accuracy_score(df['label'],df['label_vader'])"
   ]
  },
  {
   "cell_type": "code",
   "execution_count": 27,
   "id": "9f0e8343",
   "metadata": {},
   "outputs": [
    {
     "name": "stdout",
     "output_type": "stream",
     "text": [
      "              precision    recall  f1-score   support\n",
      "\n",
      "         neg       0.72      0.44      0.55       969\n",
      "         pos       0.60      0.83      0.70       969\n",
      "\n",
      "    accuracy                           0.64      1938\n",
      "   macro avg       0.66      0.64      0.62      1938\n",
      "weighted avg       0.66      0.64      0.62      1938\n",
      "\n"
     ]
    }
   ],
   "source": [
    "from sklearn.metrics import confusion_matrix,classification_report\n",
    "print(classification_report(df['label'],df['label_vader']))"
   ]
  },
  {
   "cell_type": "code",
   "execution_count": null,
   "id": "a48dc4a1",
   "metadata": {},
   "outputs": [],
   "source": []
  }
 ],
 "metadata": {
  "kernelspec": {
   "display_name": "Python 3 (ipykernel)",
   "language": "python",
   "name": "python3"
  },
  "language_info": {
   "codemirror_mode": {
    "name": "ipython",
    "version": 3
   },
   "file_extension": ".py",
   "mimetype": "text/x-python",
   "name": "python",
   "nbconvert_exporter": "python",
   "pygments_lexer": "ipython3",
   "version": "3.11.5"
  }
 },
 "nbformat": 4,
 "nbformat_minor": 5
}
